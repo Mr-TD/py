{
  "nbformat": 4,
  "nbformat_minor": 0,
  "metadata": {
    "colab": {
      "name": "Assignment1.ipynb",
      "provenance": []
    },
    "kernelspec": {
      "name": "python3",
      "display_name": "Python 3"
    }
  },
  "cells": [
    {
      "cell_type": "markdown",
      "metadata": {
        "id": "sb4B5O-lhFXu",
        "colab_type": "text"
      },
      "source": [
        "### **Assignment 1** \n"
      ]
    },
    {
      "cell_type": "markdown",
      "metadata": {
        "id": "pazGpzxh6Hel",
        "colab_type": "text"
      },
      "source": [
        "**Task 1**"
      ]
    },
    {
      "cell_type": "markdown",
      "metadata": {
        "id": "wGXpQMzM47aQ",
        "colab_type": "text"
      },
      "source": [
        "(1) Install Jupyter notebook and run the first program and share the screenshot of the output"
      ]
    },
    {
      "cell_type": "markdown",
      "metadata": {
        "id": "UnE1bkkp5ALS",
        "colab_type": "text"
      },
      "source": [
        "[Link](https://drive.google.com/file/d/1U2gPsZeZ96pe74x43TNYQaEROccUboec/view?usp=sharing)"
      ]
    },
    {
      "cell_type": "markdown",
      "metadata": {
        "id": "06dgB21-gzfv",
        "colab_type": "text"
      },
      "source": [
        "(2) Write a program which will find all such numbers which are divisible by 7 but are not a multiple\n",
        "of 5, between 2000 and 3200 (both included). The numbers obtained should be printed in a\n",
        "comma-separated sequence on a single line."
      ]
    },
    {
      "cell_type": "code",
      "metadata": {
        "id": "tKnYgse9g7aB",
        "colab_type": "code",
        "colab": {}
      },
      "source": [
        "a = []"
      ],
      "execution_count": 0,
      "outputs": []
    },
    {
      "cell_type": "code",
      "metadata": {
        "id": "tRXupQAfhraK",
        "colab_type": "code",
        "colab": {}
      },
      "source": [
        "for x in range(2000, 3201):\n",
        "    if (x % 7 == 0) and (x % 5 != 0):\n",
        "        a.append(str(x))"
      ],
      "execution_count": 0,
      "outputs": []
    },
    {
      "cell_type": "code",
      "metadata": {
        "id": "9995VY0JhvB1",
        "colab_type": "code",
        "outputId": "eaacc7ce-9f09-4d90-ba76-98505b5e0b57",
        "colab": {
          "base_uri": "https://localhost:8080/",
          "height": 55
        }
      },
      "source": [
        "print(','.join(a))"
      ],
      "execution_count": 0,
      "outputs": [
        {
          "output_type": "stream",
          "text": [
            "2002,2009,2016,2023,2037,2044,2051,2058,2072,2079,2086,2093,2107,2114,2121,2128,2142,2149,2156,2163,2177,2184,2191,2198,2212,2219,2226,2233,2247,2254,2261,2268,2282,2289,2296,2303,2317,2324,2331,2338,2352,2359,2366,2373,2387,2394,2401,2408,2422,2429,2436,2443,2457,2464,2471,2478,2492,2499,2506,2513,2527,2534,2541,2548,2562,2569,2576,2583,2597,2604,2611,2618,2632,2639,2646,2653,2667,2674,2681,2688,2702,2709,2716,2723,2737,2744,2751,2758,2772,2779,2786,2793,2807,2814,2821,2828,2842,2849,2856,2863,2877,2884,2891,2898,2912,2919,2926,2933,2947,2954,2961,2968,2982,2989,2996,3003,3017,3024,3031,3038,3052,3059,3066,3073,3087,3094,3101,3108,3122,3129,3136,3143,3157,3164,3171,3178,3192,3199\n"
          ],
          "name": "stdout"
        }
      ]
    },
    {
      "cell_type": "markdown",
      "metadata": {
        "id": "CZKO6gLAh1fx",
        "colab_type": "text"
      },
      "source": [
        "\n",
        "(3) Write a Python program to accept the user's first and last name and then getting them printed in\n",
        "the the reverse order with a space between first name and last name."
      ]
    },
    {
      "cell_type": "code",
      "metadata": {
        "id": "cpZyy1_Th5z1",
        "colab_type": "code",
        "outputId": "235a168d-c46f-40f1-c7d8-2574ef7affd9",
        "colab": {
          "base_uri": "https://localhost:8080/",
          "height": 35
        }
      },
      "source": [
        "fname = input(\"Enter your first name: \")"
      ],
      "execution_count": 0,
      "outputs": [
        {
          "output_type": "stream",
          "text": [
            "Enter your first name: Dharmik\n"
          ],
          "name": "stdout"
        }
      ]
    },
    {
      "cell_type": "code",
      "metadata": {
        "id": "Q1kh2OC6iJDu",
        "colab_type": "code",
        "outputId": "ba35b205-c93c-4af1-e900-9ac0c0b07842",
        "colab": {
          "base_uri": "https://localhost:8080/",
          "height": 35
        }
      },
      "source": [
        "lname = input(\"Enter your last name: \")"
      ],
      "execution_count": 0,
      "outputs": [
        {
          "output_type": "stream",
          "text": [
            "Enter your last name: Trivedi\n"
          ],
          "name": "stdout"
        }
      ]
    },
    {
      "cell_type": "code",
      "metadata": {
        "id": "ri1hiyu-iAOx",
        "colab_type": "code",
        "outputId": "2a1c5863-1136-4c1d-ba82-cd338e30c4ee",
        "colab": {
          "base_uri": "https://localhost:8080/",
          "height": 35
        }
      },
      "source": [
        "print(fname[::-1] + ' ' + lname[::-1])"
      ],
      "execution_count": 0,
      "outputs": [
        {
          "output_type": "stream",
          "text": [
            "kimrahD idevirT\n"
          ],
          "name": "stdout"
        }
      ]
    },
    {
      "cell_type": "markdown",
      "metadata": {
        "id": "9VKnnElLiQsS",
        "colab_type": "text"
      },
      "source": [
        "(4) Write a Python program to find the volume of a sphere with diameter 12 cm.\n",
        "Formula: V=4/3 * π * r"
      ]
    },
    {
      "cell_type": "code",
      "metadata": {
        "id": "8XxtRkmYiUIh",
        "colab_type": "code",
        "colab": {}
      },
      "source": [
        "d = 12.0\n",
        "r = d/2\n",
        "pi = 22/7"
      ],
      "execution_count": 0,
      "outputs": []
    },
    {
      "cell_type": "code",
      "metadata": {
        "id": "hOEMtjKEiYfO",
        "colab_type": "code",
        "colab": {}
      },
      "source": [
        "v = 4.0/3.0 * pi * r**3"
      ],
      "execution_count": 0,
      "outputs": []
    },
    {
      "cell_type": "code",
      "metadata": {
        "id": "vQRFVbmQigfV",
        "colab_type": "code",
        "outputId": "8c5d6c72-3917-43ca-d911-db59339a1b5c",
        "colab": {
          "base_uri": "https://localhost:8080/",
          "height": 35
        }
      },
      "source": [
        "v"
      ],
      "execution_count": 0,
      "outputs": [
        {
          "output_type": "execute_result",
          "data": {
            "text/plain": [
              "905.142857142857"
            ]
          },
          "metadata": {
            "tags": []
          },
          "execution_count": 11
        }
      ]
    },
    {
      "cell_type": "code",
      "metadata": {
        "id": "WyQsZdkaidTO",
        "colab_type": "code",
        "outputId": "7b767eb7-54b1-4b79-e345-52939013be5e",
        "colab": {
          "base_uri": "https://localhost:8080/",
          "height": 35
        }
      },
      "source": [
        "print(\"volume of a sphere with diameter 12 cm is \" + str(v))"
      ],
      "execution_count": 0,
      "outputs": [
        {
          "output_type": "stream",
          "text": [
            "volume of a sphere with diameter 12 cm is 905.142857142857\n"
          ],
          "name": "stdout"
        }
      ]
    },
    {
      "cell_type": "markdown",
      "metadata": {
        "id": "SnUKODGJ6XOT",
        "colab_type": "text"
      },
      "source": [
        "**Task 2**"
      ]
    },
    {
      "cell_type": "markdown",
      "metadata": {
        "id": "CGAMWOcHimFD",
        "colab_type": "text"
      },
      "source": [
        "(1) Write a program which accepts a sequence of comma-separated numbers from console and\n",
        "generate a list."
      ]
    },
    {
      "cell_type": "code",
      "metadata": {
        "id": "DBJh4GvqipKt",
        "colab_type": "code",
        "outputId": "3ab32f94-dfbc-412d-c7f8-4240f9c8cf3a",
        "colab": {
          "base_uri": "https://localhost:8080/",
          "height": 35
        }
      },
      "source": [
        "a = input(\"Enter your values with comma: \")"
      ],
      "execution_count": 0,
      "outputs": [
        {
          "output_type": "stream",
          "text": [
            "Enter your values with comma: 1,2,3,4\n"
          ],
          "name": "stdout"
        }
      ]
    },
    {
      "cell_type": "code",
      "metadata": {
        "id": "Y0axpPZMiuo0",
        "colab_type": "code",
        "colab": {}
      },
      "source": [
        "b = a.split(\",\")"
      ],
      "execution_count": 0,
      "outputs": []
    },
    {
      "cell_type": "code",
      "metadata": {
        "id": "pvHKvS7Xizny",
        "colab_type": "code",
        "outputId": "e01b6afe-bbb7-4767-f5ce-83020bc5e206",
        "colab": {
          "base_uri": "https://localhost:8080/",
          "height": 35
        }
      },
      "source": [
        "print(b)"
      ],
      "execution_count": 0,
      "outputs": [
        {
          "output_type": "stream",
          "text": [
            "['1', '2', '3', '4']\n"
          ],
          "name": "stdout"
        }
      ]
    },
    {
      "cell_type": "markdown",
      "metadata": {
        "id": "8j4eoJKRi2_N",
        "colab_type": "text"
      },
      "source": [
        "(2) Create the below pattern using nested for loop in Python"
      ]
    },
    {
      "cell_type": "code",
      "metadata": {
        "id": "I9tBM6fEi_8V",
        "colab_type": "code",
        "outputId": "c4f29643-8e93-49be-8086-85108631cf9f",
        "colab": {
          "base_uri": "https://localhost:8080/",
          "height": 191
        }
      },
      "source": [
        "for i in range(5):\n",
        "    for j in range(i):\n",
        "        print('*', end='')\n",
        "    print('')\n",
        "for i in range(5, 0, -1):\n",
        "    for j in range(i):\n",
        "        print('*', end='')\n",
        "    print('')"
      ],
      "execution_count": 0,
      "outputs": [
        {
          "output_type": "stream",
          "text": [
            "\n",
            "*\n",
            "**\n",
            "***\n",
            "****\n",
            "*****\n",
            "****\n",
            "***\n",
            "**\n",
            "*\n"
          ],
          "name": "stdout"
        }
      ]
    },
    {
      "cell_type": "markdown",
      "metadata": {
        "id": "WXGERv0-kGvZ",
        "colab_type": "text"
      },
      "source": [
        "(3) Write a Python program to reverse a word after accepting the input from the user.\n",
        "\n",
        "\n",
        "Sample Output:\n",
        "\n",
        "\n",
        "Input word: Ineuron\n",
        "\n",
        "Output: noruenI"
      ]
    },
    {
      "cell_type": "code",
      "metadata": {
        "id": "jh8sgSzukJ1Z",
        "colab_type": "code",
        "outputId": "d750c3a2-4a6c-45d1-b33c-b3fc92e3f21e",
        "colab": {
          "base_uri": "https://localhost:8080/",
          "height": 35
        }
      },
      "source": [
        "a = input()"
      ],
      "execution_count": 1,
      "outputs": [
        {
          "output_type": "stream",
          "text": [
            "AcadGild\n"
          ],
          "name": "stdout"
        }
      ]
    },
    {
      "cell_type": "code",
      "metadata": {
        "id": "Rwx6-I0YkN0V",
        "colab_type": "code",
        "outputId": "4654335e-3392-440f-9019-0f0107d33bf6",
        "colab": {
          "base_uri": "https://localhost:8080/",
          "height": 35
        }
      },
      "source": [
        "print(a[::-1])"
      ],
      "execution_count": 2,
      "outputs": [
        {
          "output_type": "stream",
          "text": [
            "dliGdacA\n"
          ],
          "name": "stdout"
        }
      ]
    },
    {
      "cell_type": "markdown",
      "metadata": {
        "id": "yKFrP_bd671A",
        "colab_type": "text"
      },
      "source": [
        "(4) Write a Python Program to print the given string in the format specified in the sample output.\n",
        "\n",
        "\n",
        "\n",
        "WE, THE PEOPLE OF INDIA, having solemnly resolved to constitute India into a\n",
        "SOVEREIGN, SOCIALIST, SECULAR, DEMOCRATIC REPUBLIC and to secure to all\n",
        "its citizens\n",
        "\n",
        "\n",
        "Sample Output:\n",
        "\n",
        "WE, THE PEOPLE OF INDIA,\n",
        "\n",
        "having solemnly resolved to constitute India into a SOVEREIGN, !\n",
        "\n",
        "SOCIALIST, SECULAR, DEMOCRATIC REPUBLIC\n",
        "\n",
        "and to secure to all its citizens"
      ]
    },
    {
      "cell_type": "code",
      "metadata": {
        "id": "djgwROkB7al0",
        "colab_type": "code",
        "colab": {
          "base_uri": "https://localhost:8080/",
          "height": 87
        },
        "outputId": "3bfb5122-db64-4884-f3e2-7f27ad3ebb2e"
      },
      "source": [
        "print(\"WE, THE PEOPLE OF INDIA,\\n\\thaving solemnly resolved to constitute India into a SOVEREIGN,! \\n\\t\\tSOCIALIST, SECULAR, DEMOCRATIC REPUBLIC \\n\\t\\t and to secure to all its citizens\")"
      ],
      "execution_count": 3,
      "outputs": [
        {
          "output_type": "stream",
          "text": [
            "WE, THE PEOPLE OF INDIA,\n",
            "\thaving solemnly resolved to constitute India into a SOVEREIGN,! \n",
            "\t\tSOCIALIST, SECULAR, DEMOCRATIC REPUBLIC \n",
            "\t\t and to secure to all its citizens\n"
          ],
          "name": "stdout"
        }
      ]
    }
  ]
}