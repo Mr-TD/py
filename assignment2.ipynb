{
  "nbformat": 4,
  "nbformat_minor": 0,
  "metadata": {
    "colab": {
      "name": "assignment2.ipynb",
      "provenance": []
    },
    "kernelspec": {
      "name": "python3",
      "display_name": "Python 3"
    }
  },
  "cells": [
    {
      "cell_type": "markdown",
      "metadata": {
        "id": "A7hGGHOB8sxz",
        "colab_type": "text"
      },
      "source": [
        "###**Assignment 2**"
      ]
    },
    {
      "cell_type": "markdown",
      "metadata": {
        "id": "Cwdo9lKu8x2n",
        "colab_type": "text"
      },
      "source": [
        "**Task 1:**"
      ]
    },
    {
      "cell_type": "markdown",
      "metadata": {
        "id": "vaGIQXLP8z4j",
        "colab_type": "text"
      },
      "source": [
        "(1.1) Write a Python Program to implement your own myreduce() function which works exactly like\n",
        "Python's built-in function reduce()"
      ]
    },
    {
      "cell_type": "code",
      "metadata": {
        "id": "mZKOV-tnp31Z",
        "colab_type": "code",
        "colab": {}
      },
      "source": [
        "def myreduce(function_name, sequence):\n",
        "  result = sequence[0] \n",
        "  for i in sequence[1:]:\n",
        "   result = function_name(result, i)\n",
        "  return result"
      ],
      "execution_count": 0,
      "outputs": []
    },
    {
      "cell_type": "code",
      "metadata": {
        "id": "coyU4u5bq6jx",
        "colab_type": "code",
        "outputId": "3f57f5b6-0353-41eb-b0c7-c13b32ddc579",
        "colab": {
          "base_uri": "https://localhost:8080/",
          "height": 35
        }
      },
      "source": [
        "lst =[47,11,42,13]\n",
        "myreduce(lambda x,y: x+y,lst)"
      ],
      "execution_count": 5,
      "outputs": [
        {
          "output_type": "execute_result",
          "data": {
            "text/plain": [
              "113"
            ]
          },
          "metadata": {
            "tags": []
          },
          "execution_count": 5
        }
      ]
    },
    {
      "cell_type": "markdown",
      "metadata": {
        "id": "ebwSebv89F0L",
        "colab_type": "text"
      },
      "source": [
        "(1.2) \n",
        "Write a Python program to implement your own myfilter() function which works exactly like\n",
        "Python's built-in function filter()"
      ]
    },
    {
      "cell_type": "code",
      "metadata": {
        "id": "8iT0FJptp31c",
        "colab_type": "code",
        "colab": {}
      },
      "source": [
        "def myfilter(function_name, sequence):\n",
        " result = []\n",
        " for i in sequence:\n",
        "  if function_name(i):\n",
        "   result.append(i)\n",
        " return result"
      ],
      "execution_count": 0,
      "outputs": []
    },
    {
      "cell_type": "code",
      "metadata": {
        "id": "rxYiLLmks1H_",
        "colab_type": "code",
        "outputId": "e7d9210a-d59f-4db2-b4b4-8695cc139aa3",
        "colab": {
          "base_uri": "https://localhost:8080/",
          "height": 35
        }
      },
      "source": [
        "lst = range(20)\n",
        "myfilter(lambda x:x%2 == 0, lst)"
      ],
      "execution_count": 7,
      "outputs": [
        {
          "output_type": "execute_result",
          "data": {
            "text/plain": [
              "[0, 2, 4, 6, 8, 10, 12, 14, 16, 18]"
            ]
          },
          "metadata": {
            "tags": []
          },
          "execution_count": 7
        }
      ]
    },
    {
      "cell_type": "markdown",
      "metadata": {
        "id": "3wdSRdHFp31e",
        "colab_type": "text"
      },
      "source": [
        "(2) Implement List comprehensions to produce the following lists.\n",
        "   Write List comprehensions to produce the following List\n",
        "   \n",
        "    ['A', 'C', 'A', 'D', 'G', 'I', ’L’, ‘ D’]\n",
        "\n",
        "    ['x', 'xx', 'xxx', 'xxxx', 'y', 'yy', 'yyy', 'yyyy', 'z', 'zz', 'zzz', 'zzzz']\n",
        "\n",
        "    ['x', 'y', 'z', 'xx', 'yy', 'zz', 'xx', 'yy', 'zz', 'xxxx', 'yyyy', 'zzzz']\n",
        "    \n",
        "    [[2], [3], [4], [3], [4], [5], [4], [5], [6]]\n",
        "    \n",
        "    [[2, 3, 4, 5], [3, 4, 5, 6], [4, 5, 6, 7], [5, 6, 7, 8]]\n",
        "\n",
        "    [(1, 1), (2, 1), (3, 1), (1, 2), (2, 2), (3, 2), (1, 3), (2, 3), (3, 3)]"
      ]
    },
    {
      "cell_type": "code",
      "metadata": {
        "id": "jED8BA8D9XB7",
        "colab_type": "code",
        "colab": {
          "base_uri": "https://localhost:8080/",
          "height": 35
        },
        "outputId": "740f3d3f-8072-41bf-9fb5-c0809218aea6"
      },
      "source": [
        "#['A', 'C', 'A', 'D', 'G', 'I', ’L’, ‘ D’]\n",
        "lst = 'ACADGILD'\n",
        "list(lst)"
      ],
      "execution_count": 8,
      "outputs": [
        {
          "output_type": "execute_result",
          "data": {
            "text/plain": [
              "['A', 'C', 'A', 'D', 'G', 'I', 'L', 'D']"
            ]
          },
          "metadata": {
            "tags": []
          },
          "execution_count": 8
        }
      ]
    },
    {
      "cell_type": "code",
      "metadata": {
        "id": "r0aV4Zttu3yw",
        "colab_type": "code",
        "outputId": "e6531b92-c259-4db4-96cc-819f3bab5cc1",
        "colab": {
          "base_uri": "https://localhost:8080/",
          "height": 35
        }
      },
      "source": [
        "# ['x', 'xx', 'xxx', 'xxxx', 'y', 'yy', 'yyy', 'yyyy', 'z', 'zz', 'zzz', 'zzzz']\n",
        "lst = ['x','y','z']\n",
        "a = []\n",
        "for i in lst:\n",
        "    for j in range(1,5):\n",
        "        result = i*j\n",
        "        a.append(result)\n",
        "print(a)"
      ],
      "execution_count": 9,
      "outputs": [
        {
          "output_type": "stream",
          "text": [
            "['x', 'xx', 'xxx', 'xxxx', 'y', 'yy', 'yyy', 'yyyy', 'z', 'zz', 'zzz', 'zzzz']\n"
          ],
          "name": "stdout"
        }
      ]
    },
    {
      "cell_type": "code",
      "metadata": {
        "id": "pIZ9UhH6vmWo",
        "colab_type": "code",
        "outputId": "d0098f33-3d2d-4e2f-9ec7-71a7787edb63",
        "colab": {
          "base_uri": "https://localhost:8080/",
          "height": 35
        }
      },
      "source": [
        "# ['x', 'y', 'z', 'xx', 'yy', 'zz', 'xxx', 'yyy', 'zzz', 'xxxx', 'yyyy', 'zzzz']\n",
        "lst = ['x','y','z']\n",
        "a = []\n",
        "for j in range(1,5):\n",
        "    for i in lst:\n",
        "        result = i*j\n",
        "        a.append(result)\n",
        "print(a)"
      ],
      "execution_count": 10,
      "outputs": [
        {
          "output_type": "stream",
          "text": [
            "['x', 'y', 'z', 'xx', 'yy', 'zz', 'xxx', 'yyy', 'zzz', 'xxxx', 'yyyy', 'zzzz']\n"
          ],
          "name": "stdout"
        }
      ]
    },
    {
      "cell_type": "code",
      "metadata": {
        "id": "RaQG4rGCyX6Y",
        "colab_type": "code",
        "outputId": "31fe531c-057c-4e82-a6a0-a0c80c1aa3af",
        "colab": {
          "base_uri": "https://localhost:8080/",
          "height": 35
        }
      },
      "source": [
        "# [[2], [3], [4], [3], [4], [5], [4], [5], [6]]\n",
        "lst = [2,3,4]\n",
        "result = [[i+j] for i in lst for j in range(0,3)]\n",
        "print(str(result))"
      ],
      "execution_count": 11,
      "outputs": [
        {
          "output_type": "stream",
          "text": [
            "[[2], [3], [4], [3], [4], [5], [4], [5], [6]]\n"
          ],
          "name": "stdout"
        }
      ]
    },
    {
      "cell_type": "code",
      "metadata": {
        "id": "Yamua_6K2s67",
        "colab_type": "code",
        "outputId": "ca6bec44-3d65-4b37-ee9e-d60ce477a056",
        "colab": {
          "base_uri": "https://localhost:8080/",
          "height": 35
        }
      },
      "source": [
        "# [[2, 3, 4, 5], [3, 4, 5, 6], [4, 5, 6, 7], [5, 6, 7, 8]]\n",
        "lst = [2,3,4,5]\n",
        "result = [[i+j for i in lst] for j in range(0,4)]\n",
        "print(str(result))"
      ],
      "execution_count": 12,
      "outputs": [
        {
          "output_type": "stream",
          "text": [
            "[[2, 3, 4, 5], [3, 4, 5, 6], [4, 5, 6, 7], [5, 6, 7, 8]]\n"
          ],
          "name": "stdout"
        }
      ]
    },
    {
      "cell_type": "code",
      "metadata": {
        "id": "fIzmig4529fJ",
        "colab_type": "code",
        "outputId": "d032487e-2d7a-43da-e942-d4cbaddf6a7a",
        "colab": {
          "base_uri": "https://localhost:8080/",
          "height": 35
        }
      },
      "source": [
        "# [(1, 1), (2, 1), (3, 1), (1, 2), (2, 2), (3, 2), (1, 3), (2, 3), (3, 3)]\n",
        "lst=[1,2,3]\n",
        "result = [ (b,a) for a in lst for b in lst]\n",
        "print(str(result))"
      ],
      "execution_count": 13,
      "outputs": [
        {
          "output_type": "stream",
          "text": [
            "[(1, 1), (2, 1), (3, 1), (1, 2), (2, 2), (3, 2), (1, 3), (2, 3), (3, 3)]\n"
          ],
          "name": "stdout"
        }
      ]
    },
    {
      "cell_type": "markdown",
      "metadata": {
        "id": "kCz_RYMt-Wqw",
        "colab_type": "text"
      },
      "source": [
        "(3) Implement a function longestWord() that takes a list of words and returns the longest one.\n"
      ]
    },
    {
      "cell_type": "code",
      "metadata": {
        "id": "IXYykbXm-XTp",
        "colab_type": "code",
        "colab": {}
      },
      "source": [
        "def longestword(lst):\n",
        "    length = []\n",
        "    for n in lst:\n",
        "        length.append((len(n), n))\n",
        "    length.sort()\n",
        "    return length[-1][1]"
      ],
      "execution_count": 0,
      "outputs": []
    },
    {
      "cell_type": "code",
      "metadata": {
        "id": "ScXv1nff_FPV",
        "colab_type": "code",
        "colab": {
          "base_uri": "https://localhost:8080/",
          "height": 52
        },
        "outputId": "52c45b34-093c-46a6-c011-0c0ba54e92c5"
      },
      "source": [
        "a = input(\"Enter your word list with comma sapreted:-\")\n",
        "b = a.split(',')\n",
        "#print(b)\n",
        "print(\"Longes word is:-\" + \" \" + longestword(b))"
      ],
      "execution_count": 18,
      "outputs": [
        {
          "output_type": "stream",
          "text": [
            "Enter your word list with comma sapreted:-abc,abcde,acd,abc\n",
            "Longes word is:- abcde\n"
          ],
          "name": "stdout"
        }
      ]
    },
    {
      "cell_type": "markdown",
      "metadata": {
        "id": "HofN81WV_VAw",
        "colab_type": "text"
      },
      "source": [
        "**Task 2**"
      ]
    },
    {
      "cell_type": "markdown",
      "metadata": {
        "id": "IBLfOaE3_Xer",
        "colab_type": "text"
      },
      "source": [
        "(1.1) \n",
        "Write a Python Program(with class concepts) to find the area of the triangle using the below\n",
        "formula.\n",
        "area = (s*(s-a)*(s-b)*(s-c)) ** 0.5\n",
        "Function to take the length of the sides of triangle from user should be defined in the parent\n",
        "class and function to calculate the area should be defined in subclass."
      ]
    },
    {
      "cell_type": "code",
      "metadata": {
        "id": "IF01uWSsi8fs",
        "colab_type": "code",
        "colab": {}
      },
      "source": [
        "class Area:\n",
        "    def __init__(self, a, b, c):\n",
        "        self.a = a\n",
        "        self.b = b\n",
        "        self.c = c"
      ],
      "execution_count": 0,
      "outputs": []
    },
    {
      "cell_type": "code",
      "metadata": {
        "id": "jGAAHCuEjbe_",
        "colab_type": "code",
        "colab": {}
      },
      "source": [
        "class S(Area):\n",
        "    def triangle(self):\n",
        "        s = (self.a + self.b + self.c) / 2\n",
        "        return (s*(s-self.a)*(s-self.b)*(s-self.c)) ** 0.5"
      ],
      "execution_count": 0,
      "outputs": []
    },
    {
      "cell_type": "code",
      "metadata": {
        "id": "MhKSl8ESjgSc",
        "colab_type": "code",
        "outputId": "2d999653-b765-4c20-fe05-a62450ca237e",
        "colab": {
          "base_uri": "https://localhost:8080/",
          "height": 69
        }
      },
      "source": [
        "tri = S(\n",
        "        int(input(\"Enter value of a:-\")),\n",
        "        int(input(\"Enter Value of b:-\")),\n",
        "        int(input(\"Enter Value of c:-\"))\n",
        "        )\n",
        "#print(tri.a)\n",
        "#print(tri.b)\n",
        "#print(tri.c)"
      ],
      "execution_count": 21,
      "outputs": [
        {
          "output_type": "stream",
          "text": [
            "Enter value of a:-2\n",
            "Enter Value of b:-3\n",
            "Enter Value of c:-4\n"
          ],
          "name": "stdout"
        }
      ]
    },
    {
      "cell_type": "code",
      "metadata": {
        "id": "AB-FzB6zj8DA",
        "colab_type": "code",
        "outputId": "b818c086-daca-4096-d416-5cd440d64aac",
        "colab": {
          "base_uri": "https://localhost:8080/",
          "height": 35
        }
      },
      "source": [
        "d = tri.triangle()\n",
        "print(\"area of the triangle is:-\", d)"
      ],
      "execution_count": 22,
      "outputs": [
        {
          "output_type": "stream",
          "text": [
            "area of the triangle is:- 2.9047375096555625\n"
          ],
          "name": "stdout"
        }
      ]
    },
    {
      "cell_type": "markdown",
      "metadata": {
        "id": "dgGXcJvdkhjC",
        "colab_type": "text"
      },
      "source": [
        "(1.2) Write a function filter_long_words() that takes a list of words and an integer n and returns\n",
        "the list of words that are longer than n."
      ]
    },
    {
      "cell_type": "code",
      "metadata": {
        "id": "-DNzEA1foOeq",
        "colab_type": "code",
        "colab": {}
      },
      "source": [
        "def filter_long_words(lst, n):\n",
        "    word_lengths = []\n",
        "    list = lst.split(\",\")\n",
        "    for i in list:\n",
        "        if len(i) > n:\n",
        "            word_lengths.append(i)\n",
        "    result = print(word_lengths)\n",
        "    return result"
      ],
      "execution_count": 0,
      "outputs": []
    },
    {
      "cell_type": "code",
      "metadata": {
        "id": "_WCT7-u9oVfo",
        "colab_type": "code",
        "outputId": "2f4a3be5-e577-49d8-a3d8-b6cf89994837",
        "colab": {
          "base_uri": "https://localhost:8080/",
          "height": 35
        }
      },
      "source": [
        "a = input(\"Enter your word list with comma sapreted:-\")\n",
        "#b = a.split(',')\n",
        "#print(b)"
      ],
      "execution_count": 24,
      "outputs": [
        {
          "output_type": "stream",
          "text": [
            "Enter your word list with comma sapreted:-aqwe,asd,rtyu,fgh,tyuji,mhy,kj,k,mbhg,vgt,aser\n"
          ],
          "name": "stdout"
        }
      ]
    },
    {
      "cell_type": "code",
      "metadata": {
        "id": "VmEigJL_okv9",
        "colab_type": "code",
        "outputId": "ad152eb7-9af4-4235-f530-64bed2953de5",
        "colab": {
          "base_uri": "https://localhost:8080/",
          "height": 52
        }
      },
      "source": [
        "n = int(input(\"list of words that are longer than:-\"))\n",
        "filter_long_words(a, n)"
      ],
      "execution_count": 25,
      "outputs": [
        {
          "output_type": "stream",
          "text": [
            "list of words that are longer than:-3\n",
            "['aqwe', 'rtyu', 'tyuji', 'mbhg', 'aser']\n"
          ],
          "name": "stdout"
        }
      ]
    },
    {
      "cell_type": "markdown",
      "metadata": {
        "id": "v8m_8WmMrSay",
        "colab_type": "text"
      },
      "source": [
        "(2.1) Write a Python program using function concept that maps list of words into a list of integers\n",
        "representing the lengths of the corresponding words.\n",
        "\n",
        "**Hint**: If a list [ ab,cde,erty] is passed on to the python function output should come as [2,3,4]\n",
        "Here 2,3 and 4 are the lengths of the words in the list."
      ]
    },
    {
      "cell_type": "code",
      "metadata": {
        "id": "6iMJ9HZTrYZG",
        "colab_type": "code",
        "colab": {}
      },
      "source": [
        "def length(lst):\n",
        "    c= []\n",
        "    for i in lst:\n",
        "        n = len(i)\n",
        "        #print(n)\n",
        "        c.append(n)\n",
        "    print(c)"
      ],
      "execution_count": 0,
      "outputs": []
    },
    {
      "cell_type": "code",
      "metadata": {
        "id": "QTmlMvFjvkDP",
        "colab_type": "code",
        "outputId": "09b2f2d2-e7e5-41ff-d0a0-acaa1e42c216",
        "colab": {
          "base_uri": "https://localhost:8080/",
          "height": 52
        }
      },
      "source": [
        "a = input(\"Enter your word list with comma sapreted:-\")\n",
        "b = a.split(',')\n",
        "#print(b)\n",
        "length(b)"
      ],
      "execution_count": 27,
      "outputs": [
        {
          "output_type": "stream",
          "text": [
            "Enter your word list with comma sapreted:-a,ab,abc,abcd\n",
            "[1, 2, 3, 4]\n"
          ],
          "name": "stdout"
        }
      ]
    },
    {
      "cell_type": "markdown",
      "metadata": {
        "id": "3_P1dlxGv4xE",
        "colab_type": "text"
      },
      "source": [
        "(2.2) Write a Python function which takes a character (i.e. a string of length 1) and returns True if\n",
        "it is a vowel, False otherwise."
      ]
    },
    {
      "cell_type": "code",
      "metadata": {
        "id": "p2749bDMyV83",
        "colab_type": "code",
        "colab": {}
      },
      "source": [
        "def vowel(char):\n",
        "    for i in char:\n",
        "        a = ['a', 'e', 'i', 'o', 'u']\n",
        "        if i in a:\n",
        "            print(\"True\")\n",
        "        else:\n",
        "            print(\"False\")"
      ],
      "execution_count": 0,
      "outputs": []
    },
    {
      "cell_type": "code",
      "metadata": {
        "id": "JQUVVRcwyYz0",
        "colab_type": "code",
        "outputId": "27fe50f9-5b27-4e27-c309-2a1a48d2d812",
        "colab": {
          "base_uri": "https://localhost:8080/",
          "height": 52
        }
      },
      "source": [
        "b = input(\"Enter Character to check vovel or not (enter only one character):-\")\n",
        "vowel(b)"
      ],
      "execution_count": 29,
      "outputs": [
        {
          "output_type": "stream",
          "text": [
            "Enter Character to check vovel or not (enter only one character):-d\n",
            "False\n"
          ],
          "name": "stdout"
        }
      ]
    }
  ]
}